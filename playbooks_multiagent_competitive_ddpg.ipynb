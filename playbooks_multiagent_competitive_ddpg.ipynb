{
  "cells": [
    {
      "cell_type": "markdown",
      "metadata": {
        "id": "view-in-github",
        "colab_type": "text"
      },
      "source": [
        "<a href=\"https://colab.research.google.com/github/abrarfrahman/playbooks-demo/blob/main/playbooks_multiagent_competitive_ddpg.ipynb\" target=\"_parent\"><img src=\"https://colab.research.google.com/assets/colab-badge.svg\" alt=\"Open In Colab\"/></a>"
      ]
    },
    {
      "cell_type": "markdown",
      "metadata": {
        "id": "meUugrwOWCTd"
      },
      "source": [
        "\n",
        "# Playbooks for Collaborative Intelligence: Investigating Misaligned Behaviors in Multi-Agent Systems Using Sports Analytics\n",
        "**Author**: [Abrar Rahman](https://abrarrahman.com/)\n",
        "\n",
        "**Forked from tutorial by**: [Matteo Bettini](https://github.com/matteobettini) at [Cambridge's Prorok Lab](https://proroklab.org/wp/)\n",
        "\n",
        ".. seealso::\n",
        "   The [BenchMARL](https://github.com/facebookresearch/BenchMARL)_ library provides state-of-the-art\n",
        "   implementations of MARL algorithms using TorchRL.\n",
        "\n",
        "We will use the *football* environment from the\n",
        "[VMAS](https://arxiv.org/abs/1706.02275)_. This environment is part\n",
        "of a set called [MultiAgentParticleEnvironments (MPE)](https://github.com/openai/multiagent-particle-envs)_\n",
        "introduced with the paper.\n",
        "\n",
        "There are currently multiple simulators providing MPE environments.\n",
        "We provide flexibility to train this environment in TorchRL using *either*:\n",
        "\n",
        "- [PettingZoo](https://pettingzoo.farama.org/)_, in the traditional CPU version of the environment;\n",
        "- [VMAS](https://github.com/proroklab/VectorizedMultiAgentSimulator)_, which provides a vectorized implementation in PyTorch,\n",
        "  able to simulate multiple environments on a GPU to speed up computation.\n",
        "\n",
        "The `football` simulation is only available on VMAS, so sample code has been provided to run a PettingZoo enviornment for `simple_tag_v3` as a proof of concept."
      ]
    },
    {
      "cell_type": "markdown",
      "metadata": {
        "id": "alwBPVw9WCTe"
      },
      "source": [
        "Deep Deterministic Policy Gradient (DDPG) is an off-policy actor-critic algorithm\n",
        "where a deterministic policy is optimised using the gradients from the critic network.\n",
        "For more information, see the [Deep Deterministic Policy Gradients](https://arxiv.org/abs/1509.02971) paper.\n",
        "This kind of algorithm is typicall trained off-policy. For more info on off-policy learning see\n",
        "*Sutton, Richard S., and Andrew G. Barto. Reinforcement learning: An introduction. MIT press, 2018*.\n",
        "\n",
        ".. figure:: https://pytorch.s3.amazonaws.com/torchrl/github-artifacts/img/off-policy-vmas-loop-min.png\n",
        "   :alt: Off-policy learning\n",
        "\n",
        "   Off-policy learning\n",
        "\n",
        "This approach has been extended to multi-agent learning in [Multi-Agent Actor-Critic for Mixed Cooperative-Competitive Environments](https://arxiv.org/abs/1706.02275)_,\n",
        "which introduces the Multi Agent DDPG (MADDPG) algorithm.\n",
        "In multi-agent settings, things are a bit different. We now have multiple policies $\\mathbf{\\pi}$,\n",
        "one for each agent. Policies are typically local and decentralised. This means that\n",
        "the policy for a single agent will output an action for that agent based only on its observation.\n",
        "In the MARL literature, this is referred to as **decentralised execution**.\n",
        "On the other hand, different formulations exist for the critic, mainly:\n",
        "\n",
        "- In [MADDPG](https://arxiv.org/abs/1706.02275) the critic is centralised and takes as input the global state and global action\n",
        "  of the system. The global state can be a global observation or simply the concatenation of the agents' observation.\n",
        "  The global action is the concatenation of agent actions. MADDPG\n",
        "  can be used in contexts where **centralised training** is performed as it needs access to global information.\n",
        "- In IDDPG, the critic takes as input just the observation and action of one agent.\n",
        "  This allows **decentralised training** as both the critic and the policy will only need local\n",
        "  information to compute their outputs.\n",
        "\n",
        "Centralised critics help overcome the non-stationary of multiple agents learning concurrently, but,\n",
        "on the other hand, they may be impacted by their large input space.\n",
        "\n",
        "\n",
        "The structure of this notebook is as follows:\n",
        "\n",
        "1. Initially, we will establish a set of hyperparameters for use.\n",
        "\n",
        "2. Subsequently, we will construct a multi-agent environment, utilizing TorchRL's\n",
        "   wrapper for either PettingZoo or VMAS.\n",
        "\n",
        "3. Following that, we will formulate the policy and critic networks, discussing the effects of various choices on\n",
        "   parameter sharing and critic centralization.\n",
        "\n",
        "4. Afterwards, we will create the sampling collector and the replay buffer.\n",
        "\n",
        "5. Bracket simulation, aggregating and computing team- and agent-level metrics to generate \"box scores\"\n",
        "\n",
        "6. Visualization and analysis\n",
        "\n",
        "If you are operating this in Colab or on a machine with a GUI, you will also have the opportunity\n",
        "to render and visualize your own trained policy before and after the training process.\n",
        "\n",
        "Import our dependencies:\n",
        "\n",
        "\n"
      ]
    },
    {
      "cell_type": "code",
      "source": [
        "!pip3 install torchrl\n",
        "!pip3 install vmas\n",
        "!pip3 install pettingzoo[mpe]==1.24.3\n",
        "!pip3 install tqdm\n",
        "!pip3 install av\n",
        "!apt-get install python3-opengl"
      ],
      "metadata": {
        "id": "uVxWzUj3WUMS",
        "outputId": "2859188a-f4bb-4ac6-da97-5b912b31a1a7",
        "colab": {
          "base_uri": "https://localhost:8080/"
        }
      },
      "execution_count": null,
      "outputs": [
        {
          "output_type": "stream",
          "name": "stdout",
          "text": [
            "Requirement already satisfied: torchrl in /usr/local/lib/python3.10/dist-packages (0.6.0)\n",
            "Requirement already satisfied: torch>=2.5.0 in /usr/local/lib/python3.10/dist-packages (from torchrl) (2.5.1+cu121)\n",
            "Requirement already satisfied: numpy in /usr/local/lib/python3.10/dist-packages (from torchrl) (1.26.4)\n",
            "Requirement already satisfied: packaging in /usr/local/lib/python3.10/dist-packages (from torchrl) (24.2)\n",
            "Requirement already satisfied: cloudpickle in /usr/local/lib/python3.10/dist-packages (from torchrl) (3.1.0)\n",
            "Requirement already satisfied: tensordict>=0.6.0 in /usr/local/lib/python3.10/dist-packages (from torchrl) (0.6.2)\n",
            "Requirement already satisfied: orjson in /usr/local/lib/python3.10/dist-packages (from tensordict>=0.6.0->torchrl) (3.10.12)\n",
            "Requirement already satisfied: filelock in /usr/local/lib/python3.10/dist-packages (from torch>=2.5.0->torchrl) (3.16.1)\n",
            "Requirement already satisfied: typing-extensions>=4.8.0 in /usr/local/lib/python3.10/dist-packages (from torch>=2.5.0->torchrl) (4.12.2)\n",
            "Requirement already satisfied: networkx in /usr/local/lib/python3.10/dist-packages (from torch>=2.5.0->torchrl) (3.4.2)\n",
            "Requirement already satisfied: jinja2 in /usr/local/lib/python3.10/dist-packages (from torch>=2.5.0->torchrl) (3.1.4)\n",
            "Requirement already satisfied: fsspec in /usr/local/lib/python3.10/dist-packages (from torch>=2.5.0->torchrl) (2024.10.0)\n",
            "Requirement already satisfied: sympy==1.13.1 in /usr/local/lib/python3.10/dist-packages (from torch>=2.5.0->torchrl) (1.13.1)\n",
            "Requirement already satisfied: mpmath<1.4,>=1.1.0 in /usr/local/lib/python3.10/dist-packages (from sympy==1.13.1->torch>=2.5.0->torchrl) (1.3.0)\n",
            "Requirement already satisfied: MarkupSafe>=2.0 in /usr/local/lib/python3.10/dist-packages (from jinja2->torch>=2.5.0->torchrl) (3.0.2)\n",
            "Requirement already satisfied: vmas in /usr/local/lib/python3.10/dist-packages (1.4.3)\n",
            "Requirement already satisfied: numpy in /usr/local/lib/python3.10/dist-packages (from vmas) (1.26.4)\n",
            "Requirement already satisfied: torch in /usr/local/lib/python3.10/dist-packages (from vmas) (2.5.1+cu121)\n",
            "Requirement already satisfied: pyglet<=1.5.27 in /usr/local/lib/python3.10/dist-packages (from vmas) (1.5.27)\n",
            "Requirement already satisfied: gym in /usr/local/lib/python3.10/dist-packages (from vmas) (0.25.2)\n",
            "Requirement already satisfied: six in /usr/local/lib/python3.10/dist-packages (from vmas) (1.17.0)\n",
            "Requirement already satisfied: cloudpickle>=1.2.0 in /usr/local/lib/python3.10/dist-packages (from gym->vmas) (3.1.0)\n",
            "Requirement already satisfied: gym_notices>=0.0.4 in /usr/local/lib/python3.10/dist-packages (from gym->vmas) (0.0.8)\n",
            "Requirement already satisfied: filelock in /usr/local/lib/python3.10/dist-packages (from torch->vmas) (3.16.1)\n",
            "Requirement already satisfied: typing-extensions>=4.8.0 in /usr/local/lib/python3.10/dist-packages (from torch->vmas) (4.12.2)\n",
            "Requirement already satisfied: networkx in /usr/local/lib/python3.10/dist-packages (from torch->vmas) (3.4.2)\n",
            "Requirement already satisfied: jinja2 in /usr/local/lib/python3.10/dist-packages (from torch->vmas) (3.1.4)\n",
            "Requirement already satisfied: fsspec in /usr/local/lib/python3.10/dist-packages (from torch->vmas) (2024.10.0)\n",
            "Requirement already satisfied: sympy==1.13.1 in /usr/local/lib/python3.10/dist-packages (from torch->vmas) (1.13.1)\n",
            "Requirement already satisfied: mpmath<1.4,>=1.1.0 in /usr/local/lib/python3.10/dist-packages (from sympy==1.13.1->torch->vmas) (1.3.0)\n",
            "Requirement already satisfied: MarkupSafe>=2.0 in /usr/local/lib/python3.10/dist-packages (from jinja2->torch->vmas) (3.0.2)\n",
            "Requirement already satisfied: pettingzoo==1.24.3 in /usr/local/lib/python3.10/dist-packages (from pettingzoo[mpe]==1.24.3) (1.24.3)\n",
            "Requirement already satisfied: numpy>=1.21.0 in /usr/local/lib/python3.10/dist-packages (from pettingzoo==1.24.3->pettingzoo[mpe]==1.24.3) (1.26.4)\n",
            "Requirement already satisfied: gymnasium>=0.28.0 in /usr/local/lib/python3.10/dist-packages (from pettingzoo==1.24.3->pettingzoo[mpe]==1.24.3) (1.0.0)\n",
            "Requirement already satisfied: pygame==2.3.0 in /usr/local/lib/python3.10/dist-packages (from pettingzoo[mpe]==1.24.3) (2.3.0)\n",
            "Requirement already satisfied: cloudpickle>=1.2.0 in /usr/local/lib/python3.10/dist-packages (from gymnasium>=0.28.0->pettingzoo==1.24.3->pettingzoo[mpe]==1.24.3) (3.1.0)\n",
            "Requirement already satisfied: typing-extensions>=4.3.0 in /usr/local/lib/python3.10/dist-packages (from gymnasium>=0.28.0->pettingzoo==1.24.3->pettingzoo[mpe]==1.24.3) (4.12.2)\n",
            "Requirement already satisfied: farama-notifications>=0.0.1 in /usr/local/lib/python3.10/dist-packages (from gymnasium>=0.28.0->pettingzoo==1.24.3->pettingzoo[mpe]==1.24.3) (0.0.4)\n",
            "Requirement already satisfied: tqdm in /usr/local/lib/python3.10/dist-packages (4.66.6)\n",
            "Requirement already satisfied: av in /usr/local/lib/python3.10/dist-packages (14.0.1)\n",
            "Reading package lists... Done\n",
            "Building dependency tree... Done\n",
            "Reading state information... Done\n",
            "python3-opengl is already the newest version (3.1.5+dfsg-1).\n",
            "0 upgraded, 0 newly installed, 0 to remove and 49 not upgraded.\n"
          ]
        }
      ]
    },
    {
      "cell_type": "code",
      "execution_count": null,
      "metadata": {
        "id": "4k_K049pWCTe"
      },
      "outputs": [],
      "source": [
        "import copy\n",
        "import tempfile\n",
        "\n",
        "import torch\n",
        "\n",
        "from matplotlib import pyplot as plt\n",
        "from tensordict import TensorDictBase\n",
        "\n",
        "from tensordict.nn import TensorDictModule, TensorDictSequential\n",
        "from torch import multiprocessing\n",
        "\n",
        "from torchrl.collectors import SyncDataCollector\n",
        "from torchrl.data import LazyMemmapStorage, RandomSampler, ReplayBuffer\n",
        "\n",
        "from torchrl.envs import (\n",
        "    check_env_specs,\n",
        "    ExplorationType,\n",
        "    PettingZooEnv,\n",
        "    RewardSum,\n",
        "    set_exploration_type,\n",
        "    TransformedEnv,\n",
        "    VmasEnv,\n",
        ")\n",
        "\n",
        "from torchrl.modules import (\n",
        "    AdditiveGaussianModule,\n",
        "    MultiAgentMLP,\n",
        "    ProbabilisticActor,\n",
        "    TanhDelta,\n",
        ")\n",
        "\n",
        "from torchrl.objectives import DDPGLoss, SoftUpdate, ValueEstimators\n",
        "\n",
        "from torchrl.record import CSVLogger, PixelRenderTransform, VideoRecorder\n",
        "\n",
        "from tqdm import tqdm\n",
        "\n",
        "# Check if we're building the doc, in which case disable video rendering\n",
        "try:\n",
        "    is_sphinx = __sphinx_build__\n",
        "except NameError:\n",
        "    is_sphinx = False"
      ]
    },
    {
      "cell_type": "markdown",
      "metadata": {
        "id": "mFvCZ2KFWCTf"
      },
      "source": [
        "## Define Hyperparameters\n",
        "\n",
        "We set the hyperparameters for our tutorial.\n",
        "Depending on the resources\n",
        "available, one may choose to execute the policy and the simulator on GPU or on another\n",
        "device.\n",
        "You can tune some of these values to adjust the computational requirements.\n",
        "\n",
        "\n"
      ]
    },
    {
      "cell_type": "code",
      "execution_count": null,
      "metadata": {
        "id": "rLpitqVtWCTf"
      },
      "outputs": [],
      "source": [
        "# Seed\n",
        "seed = 0\n",
        "torch.manual_seed(seed)\n",
        "\n",
        "# Devices\n",
        "is_fork = multiprocessing.get_start_method() == \"fork\"\n",
        "device = (\n",
        "    torch.device(0)\n",
        "    if torch.cuda.is_available() and not is_fork\n",
        "    else torch.device(\"cpu\")\n",
        ")\n",
        "\n",
        "# Sampling\n",
        "frames_per_batch = 1_000  # Number of team frames collected per sampling iteration\n",
        "n_iters = 64  # Number of sampling and training iterations\n",
        "total_frames = frames_per_batch * n_iters\n",
        "\n",
        "# We will stop training the evaders after this many iterations,\n",
        "# should be 0 <= iteration_when_stop_training_evaders <= n_iters\n",
        "iteration_when_stop_training_evaders = n_iters // 2\n",
        "\n",
        "# Replay buffer\n",
        "memory_size = 1_000_000  # The replay buffer of each group can store this many frames\n",
        "\n",
        "# Training\n",
        "n_optimiser_steps = 100  # Number of optimization steps per training iteration\n",
        "train_batch_size = 128  # Number of frames trained in each optimiser step\n",
        "lr = 3e-4  # Learning rate\n",
        "max_grad_norm = 1.0  # Maximum norm for the gradients\n",
        "\n",
        "# DDPG\n",
        "gamma = 0.99  # Discount factor\n",
        "polyak_tau = 0.005  # Tau for the soft-update of the target network"
      ]
    },
    {
      "cell_type": "markdown",
      "metadata": {
        "id": "Z2wuyS3kWCTf"
      },
      "source": [
        "## Environment\n",
        "\n",
        "Multi-agent environments simulate multiple agents interacting with the world.\n",
        "TorchRL API allows integrating various types of multi-agent environment flavors.\n",
        "In this tutorial we will focus on environments where multiple agent groups interact in parallel.\n",
        "That is: at every step all agents will get an observation and take an action synchronously.\n",
        "\n",
        "Furthermore, the TorchRL MARL API allows to separate agents into groups. Each group will be a separate entry in the\n",
        "tensordict. The data of agents within a group is stacked together. Therefore, by choosing how to group your agents,\n",
        "you can decide which data is stacked/kept as separate entries.\n",
        "The grouping strategy can be specified at construction in environments like VMAS and PettingZoo.\n",
        "For more info on grouping, see :class:`~torchrl.envs.utils.MarlGroupMapType`.\n",
        "\n",
        "\n",
        "In this scenario, a team of ``n_blue_agents`` play football against a team of ``n_red_agents``. The boolean parameters ``ai_blue_agents`` and ``ai_red_agents`` specify whether each team is controlled by action inputs or a programmed AI. Consequently, football can be treated as either a cooperative or competitive task. The reward in this scenario can be tuned with ``dense_reward_ratio``, where a value of 0 denotes a fully sparse reward (1 for a goal scored, -1 for a goal conceded), and 1 denotes a fully dense reward (based on the the difference of the \"attacking value\" of each team, which considers the distance from the ball to the goal and the presence of open dribbling/shooting lanes to the goal). Every agent observes its position, velocity, relative position to the ball, and relative velocity to the ball. The episode terminates when one team scores a goal.\n",
        "\n",
        "\n",
        "Simulator Differences (PettingZoo vs. VMAS):\n",
        "- The PettingZoo and VMAS versions of any given environment might differ slightly in how they handle certain aspects of the game, such as rewards, ball physics, and player movement.\n",
        "- These differences can influence the training dynamics and performance of the agents.\n",
        "- You might observe variations in reward structures and the strategies that agents develop during training depending on the chosen simulator.\n",
        "\n",
        "We will now instantiate the environment.\n",
        "For this tutorial, we will limit the episodes to ``max_steps``, after which the terminated flag is set. This is\n",
        "functionality is already provided in the PettingZoo and VMAS simulators but the TorchRL :class:`~torchrl.envs.transforms.StepCounter`\n",
        "transform could alternatively be used.\n",
        "\n",
        "\n"
      ]
    },
    {
      "cell_type": "code",
      "execution_count": null,
      "metadata": {
        "id": "Ti0r1xjpWCTg"
      },
      "outputs": [],
      "source": [
        "max_steps = 100  # Environment steps before done\n",
        "\n",
        "# Scenario 2: simple_tag\n",
        "n_chasers = 2\n",
        "n_evaders = 1\n",
        "n_obstacles = 2\n",
        "\n",
        "use_vmas = True  # Set this to True for a great performance speedup\n",
        "\n",
        "if not use_vmas:\n",
        "    base_env = PettingZooEnv(\n",
        "        task=\"simple_tag_v3\",\n",
        "        parallel=True,  # Use the Parallel version\n",
        "        seed=seed,\n",
        "        continuous_actions=True,\n",
        "        num_good=n_evaders,\n",
        "        # Scenario specific\n",
        "        num_adversaries=n_chasers,\n",
        "        num_obstacles=n_obstacles,\n",
        "        max_cycles=max_steps,\n",
        "    )\n",
        "else:\n",
        "    num_vmas_envs = (\n",
        "        frames_per_batch // max_steps\n",
        "    )  # Number of vectorized environments. frames_per_batch collection will be divided among these environments\n",
        "    base_env = VmasEnv(\n",
        "        scenario=\"football\",\n",
        "        num_envs=num_vmas_envs,\n",
        "        continuous_actions=True,\n",
        "        max_steps=max_steps,\n",
        "        device=device,\n",
        "        seed=seed,\n",
        "        # Add params here, based off this https://github.com/proroklab/VectorizedMultiAgentSimulator/blob/VMAS-1.3.3/vmas/scenarios/football.py\n",
        "        # For now, we'll stick to the defaults\n",
        "    )\n",
        "\n",
        "    \"\"\" # Scenario 2: simple_tag\n",
        "    base_env = VmasEnv(\n",
        "        scenario=\"simple_tag\",\n",
        "        num_envs=num_vmas_envs,\n",
        "        continuous_actions=True,\n",
        "        max_steps=max_steps,\n",
        "        device=device,\n",
        "        seed=seed,\n",
        "        # Scenario specific\n",
        "        num_good_agents=n_evaders,\n",
        "        num_adversaries=n_chasers,\n",
        "        num_landmarks=n_obstacles,\n",
        "    )\n",
        "    \"\"\""
      ]
    },
    {
      "cell_type": "markdown",
      "metadata": {
        "id": "bCDk8hUxWCTg"
      },
      "source": [
        "### Group map\n",
        "\n",
        "PettingZoo and VMAS environments use the TorchRL MARL grouping API.\n",
        "We can access the group map, mapping each group to the agents in it, as follows:\n",
        "\n",
        "\n"
      ]
    },
    {
      "cell_type": "code",
      "execution_count": null,
      "metadata": {
        "id": "OqdJh5IzWCTg",
        "outputId": "fc5a6939-c24c-4460-e895-7771fb6e57d9",
        "colab": {
          "base_uri": "https://localhost:8080/"
        }
      },
      "outputs": [
        {
          "output_type": "stream",
          "name": "stdout",
          "text": [
            "group_map: {'agent_blue': ['agent_blue_0', 'agent_blue_1', 'agent_blue_2']}\n"
          ]
        }
      ],
      "source": [
        "print(f\"group_map: {base_env.group_map}\")"
      ]
    },
    {
      "cell_type": "markdown",
      "metadata": {
        "id": "izhRJDFlWCTg"
      },
      "source": [
        "As we can see it contains one group by default: the blue agents.\n",
        "\n",
        "The environment is not only defined by its simulator and transforms, but also\n",
        "by a series of metadata that describe what can be expected during its\n",
        "execution.\n",
        "For efficiency purposes, TorchRL is quite stringent when it comes to\n",
        "environment specs, but you can easily check that your environment specs are\n",
        "adequate.\n",
        "In our example, the simulator wrapper takes care of setting the proper specs for your base_env, so\n",
        "you should not have to care about this.\n",
        "\n",
        "There are four specs to look at:\n",
        "\n",
        "- ``action_spec`` defines the action space;\n",
        "- ``reward_spec`` defines the reward domain;\n",
        "- ``done_spec`` defines the done domain;\n",
        "- ``observation_spec`` which defines the domain of all other outputs from environment steps;\n",
        "\n",
        "\n",
        "\n"
      ]
    },
    {
      "cell_type": "code",
      "execution_count": null,
      "metadata": {
        "id": "TDNq6FaFWCTh",
        "outputId": "89841f4b-d6f6-47eb-a4b5-01e44868445b",
        "colab": {
          "base_uri": "https://localhost:8080/"
        }
      },
      "outputs": [
        {
          "output_type": "stream",
          "name": "stdout",
          "text": [
            "action_spec: Composite(\n",
            "    agent_blue: Composite(\n",
            "        action: BoundedContinuous(\n",
            "            shape=torch.Size([10, 3, 2]),\n",
            "            space=ContinuousBox(\n",
            "                low=Tensor(shape=torch.Size([10, 3, 2]), device=cpu, dtype=torch.float32, contiguous=True),\n",
            "                high=Tensor(shape=torch.Size([10, 3, 2]), device=cpu, dtype=torch.float32, contiguous=True)),\n",
            "            device=cpu,\n",
            "            dtype=torch.float32,\n",
            "            domain=continuous),\n",
            "        device=cpu,\n",
            "        shape=torch.Size([10, 3])),\n",
            "    device=cpu,\n",
            "    shape=torch.Size([10]))\n",
            "reward_spec: Composite(\n",
            "    agent_blue: Composite(\n",
            "        reward: UnboundedContinuous(\n",
            "            shape=torch.Size([10, 3, 1]),\n",
            "            space=ContinuousBox(\n",
            "                low=Tensor(shape=torch.Size([10, 3, 1]), device=cpu, dtype=torch.float32, contiguous=True),\n",
            "                high=Tensor(shape=torch.Size([10, 3, 1]), device=cpu, dtype=torch.float32, contiguous=True)),\n",
            "            device=cpu,\n",
            "            dtype=torch.float32,\n",
            "            domain=continuous),\n",
            "        device=cpu,\n",
            "        shape=torch.Size([10, 3])),\n",
            "    device=cpu,\n",
            "    shape=torch.Size([10]))\n",
            "done_spec: Composite(\n",
            "    done: Categorical(\n",
            "        shape=torch.Size([10, 1]),\n",
            "        space=CategoricalBox(n=2),\n",
            "        device=cpu,\n",
            "        dtype=torch.bool,\n",
            "        domain=discrete),\n",
            "    terminated: Categorical(\n",
            "        shape=torch.Size([10, 1]),\n",
            "        space=CategoricalBox(n=2),\n",
            "        device=cpu,\n",
            "        dtype=torch.bool,\n",
            "        domain=discrete),\n",
            "    device=cpu,\n",
            "    shape=torch.Size([10]))\n",
            "observation_spec: Composite(\n",
            "    agent_blue: Composite(\n",
            "        observation: UnboundedContinuous(\n",
            "            shape=torch.Size([10, 3, 8]),\n",
            "            space=ContinuousBox(\n",
            "                low=Tensor(shape=torch.Size([10, 3, 8]), device=cpu, dtype=torch.float32, contiguous=True),\n",
            "                high=Tensor(shape=torch.Size([10, 3, 8]), device=cpu, dtype=torch.float32, contiguous=True)),\n",
            "            device=cpu,\n",
            "            dtype=torch.float32,\n",
            "            domain=continuous),\n",
            "        device=cpu,\n",
            "        shape=torch.Size([10, 3])),\n",
            "    device=cpu,\n",
            "    shape=torch.Size([10]))\n"
          ]
        }
      ],
      "source": [
        "print(\"action_spec:\", base_env.full_action_spec)\n",
        "print(\"reward_spec:\", base_env.full_reward_spec)\n",
        "print(\"done_spec:\", base_env.full_done_spec)\n",
        "print(\"observation_spec:\", base_env.observation_spec)"
      ]
    },
    {
      "cell_type": "markdown",
      "metadata": {
        "id": "LQizlMTxWCTh"
      },
      "source": [
        "Using the commands just shown we can access the domain of each value.\n",
        "\n",
        "We can see that all specs are structured as a dictionary, with the root always containing the group names.\n",
        "This structure will be followed in all tensordict data coming and going to the environment.\n",
        "Furthermore, the specs of each group have leading shape ``(n_agents_in_that_group)`` (1 for agents, 2 for adversaries),\n",
        "meaning that the tensor data of that group will always have that leading shape (agents within a group have the data stacked).\n",
        "\n",
        "Looking at the ``done_spec``, we can see that there are some keys that are outside of agent groups\n",
        "(``\"done\", \"terminated\", \"truncated\"``), which do not have a leading multi-agent dimension.\n",
        "These keys are shared by all agents and represent the environment global done state used for resetting.\n",
        "By default, like in this case, parallel PettingZoo environments are done when any agent is done, but this behavior\n",
        "can be overridden by setting ``done_on_any`` at PettingZoo environment construction.\n",
        "\n",
        "To quickly access the keys for each of these values in tensordicts, we can simply ask the environment for the\n",
        "respective keys, and\n",
        "we will immediately understand which are per-agent and which shared.\n",
        "This info will be useful in order to tell all other TorchRL components where to find each value\n",
        "\n",
        "\n"
      ]
    },
    {
      "cell_type": "code",
      "execution_count": null,
      "metadata": {
        "id": "3ybVqhuQWCTh",
        "outputId": "fbb9573d-fc9d-464f-c812-245c37ed5448",
        "colab": {
          "base_uri": "https://localhost:8080/"
        }
      },
      "outputs": [
        {
          "output_type": "stream",
          "name": "stdout",
          "text": [
            "action_keys: [('agent_blue', 'action')]\n",
            "reward_keys: [('agent_blue', 'reward')]\n",
            "done_keys: ['done', 'terminated']\n"
          ]
        }
      ],
      "source": [
        "print(\"action_keys:\", base_env.action_keys)\n",
        "print(\"reward_keys:\", base_env.reward_keys)\n",
        "print(\"done_keys:\", base_env.done_keys)"
      ]
    },
    {
      "cell_type": "markdown",
      "metadata": {
        "id": "XBQh99tJWCTh"
      },
      "source": [
        "### Transforms\n",
        "\n",
        "We can append any TorchRL transform we need to our environment.\n",
        "These will modify its input/output in some desired way.\n",
        "We stress that, in multi-agent contexts, it is paramount to provide explicitly the keys to modify.\n",
        "\n",
        "For example, in this case, we will instantiate a ``RewardSum`` transform which will sum rewards over the episode.\n",
        "We will tell this transform where to find the reset keys for each reward key.\n",
        "Essentially we just say that the\n",
        "episode reward of each group should be reset when the ``\"_reset\"`` tensordict key is set, meaning that ``env.reset()``\n",
        "was called.\n",
        "The transformed environment will inherit\n",
        "the device and meta-data of the wrapped environment, and transform these depending on the sequence\n",
        "of transforms it contains.\n",
        "\n",
        "\n"
      ]
    },
    {
      "cell_type": "code",
      "execution_count": null,
      "metadata": {
        "id": "Nt-Q35GUWCTh"
      },
      "outputs": [],
      "source": [
        "env = TransformedEnv(\n",
        "    base_env,\n",
        "    RewardSum(\n",
        "        in_keys=base_env.reward_keys,\n",
        "        reset_keys=[\"_reset\"] * len(base_env.group_map.keys()),\n",
        "    ),\n",
        ")"
      ]
    },
    {
      "cell_type": "markdown",
      "metadata": {
        "id": "3j2J2z5hWCTh"
      },
      "source": [
        "the :func:`check_env_specs` function runs a small rollout and compares its output against the environment\n",
        "specs. If no error is raised, we can be confident that the specs are properly defined:\n",
        "\n",
        "\n"
      ]
    },
    {
      "cell_type": "code",
      "execution_count": null,
      "metadata": {
        "id": "khnQUP4TWCTh",
        "outputId": "7b47b455-ce40-4c8f-9492-0e966d528533",
        "colab": {
          "base_uri": "https://localhost:8080/"
        }
      },
      "outputs": [
        {
          "output_type": "stream",
          "name": "stderr",
          "text": [
            "2024-12-17 16:44:12,793 [torchrl][INFO] check_env_specs succeeded!\n"
          ]
        }
      ],
      "source": [
        "check_env_specs(env)"
      ]
    },
    {
      "cell_type": "markdown",
      "metadata": {
        "id": "te5_AnzOWCTh"
      },
      "source": [
        "### Rollout\n",
        "\n",
        "For fun, let us see what a simple random rollout looks like. You can\n",
        "call `env.rollout(n_steps)` and get an overview of what the environment inputs\n",
        "and outputs look like. Actions will automatically be drawn at random from the action spec\n",
        "domain.\n",
        "\n",
        "\n"
      ]
    },
    {
      "cell_type": "code",
      "execution_count": null,
      "metadata": {
        "id": "fec6qlStWCTh",
        "outputId": "e74b157d-e231-40ee-c064-e40f50b85d8a",
        "colab": {
          "base_uri": "https://localhost:8080/"
        }
      },
      "outputs": [
        {
          "output_type": "stream",
          "name": "stdout",
          "text": [
            "rollout of 5 steps: TensorDict(\n",
            "    fields={\n",
            "        agent_blue: TensorDict(\n",
            "            fields={\n",
            "                action: Tensor(shape=torch.Size([10, 5, 3, 2]), device=cpu, dtype=torch.float32, is_shared=False),\n",
            "                episode_reward: Tensor(shape=torch.Size([10, 5, 3, 1]), device=cpu, dtype=torch.float32, is_shared=False),\n",
            "                observation: Tensor(shape=torch.Size([10, 5, 3, 8]), device=cpu, dtype=torch.float32, is_shared=False)},\n",
            "            batch_size=torch.Size([10, 5, 3]),\n",
            "            device=cpu,\n",
            "            is_shared=False),\n",
            "        done: Tensor(shape=torch.Size([10, 5, 1]), device=cpu, dtype=torch.bool, is_shared=False),\n",
            "        next: TensorDict(\n",
            "            fields={\n",
            "                agent_blue: TensorDict(\n",
            "                    fields={\n",
            "                        episode_reward: Tensor(shape=torch.Size([10, 5, 3, 1]), device=cpu, dtype=torch.float32, is_shared=False),\n",
            "                        observation: Tensor(shape=torch.Size([10, 5, 3, 8]), device=cpu, dtype=torch.float32, is_shared=False),\n",
            "                        reward: Tensor(shape=torch.Size([10, 5, 3, 1]), device=cpu, dtype=torch.float32, is_shared=False)},\n",
            "                    batch_size=torch.Size([10, 5, 3]),\n",
            "                    device=cpu,\n",
            "                    is_shared=False),\n",
            "                done: Tensor(shape=torch.Size([10, 5, 1]), device=cpu, dtype=torch.bool, is_shared=False),\n",
            "                terminated: Tensor(shape=torch.Size([10, 5, 1]), device=cpu, dtype=torch.bool, is_shared=False)},\n",
            "            batch_size=torch.Size([10, 5]),\n",
            "            device=cpu,\n",
            "            is_shared=False),\n",
            "        terminated: Tensor(shape=torch.Size([10, 5, 1]), device=cpu, dtype=torch.bool, is_shared=False)},\n",
            "    batch_size=torch.Size([10, 5]),\n",
            "    device=cpu,\n",
            "    is_shared=False)\n",
            "Shape of the rollout TensorDict: torch.Size([10, 5])\n"
          ]
        }
      ],
      "source": [
        "n_rollout_steps = 5\n",
        "rollout = env.rollout(n_rollout_steps)\n",
        "print(f\"rollout of {n_rollout_steps} steps:\", rollout)\n",
        "print(\"Shape of the rollout TensorDict:\", rollout.batch_size)"
      ]
    },
    {
      "cell_type": "markdown",
      "metadata": {
        "id": "bZuc6AkvWCTh"
      },
      "source": [
        "We can see that our rollout has ``batch_size`` of ``(n_rollout_steps)``.\n",
        "This means that all the tensors in it will have this leading dimension.\n",
        "\n",
        "Looking more in depth, we can see that the output tensordict can be divided in the following way:\n",
        "\n",
        "- *In the root* (accessible by running ``rollout.exclude(\"next\")`` ) we will find all the keys that are available\n",
        "  after a reset is called at the first timestep. We can see their evolution through the rollout steps by indexing\n",
        "  the ``n_rollout_steps`` dimension. Among these keys, we will find the ones that are different for each agent\n",
        "  in the ``rollout[group_name]`` tensordicts, which will have batch size ``(n_rollout_steps, n_agents_in_group)``\n",
        "  signifying that it is storing the additional agent dimension. The ones outside the group tensordicts\n",
        "  will be the shared ones.\n",
        "- *In the next* (accessible by running ``rollout.get(\"next\")`` ). We will find the same structure as the root with some minor differences highlighted below.\n",
        "\n",
        "In TorchRL the convention is that done and observations will be present in both root and next (as these are\n",
        "available both at reset time and after a step). Action will only be available in root (as there is no action\n",
        "resulting from a step) and reward will only be available in next (as there is no reward at reset time).\n",
        "This structure follows the one in **Reinforcement Learning: An Introduction (Sutton and Barto)** where root represents data at time $t$ and\n",
        "next represents data at time $t+1$ of a world step.\n",
        "\n",
        "\n",
        "### Render a random rollout\n",
        "\n",
        "If you are on Google Colab, or on a machine with OpenGL and a GUI, you can actually render a random rollout.\n",
        "This will give you an idea of what a random policy will achieve in this task, in order to compare it\n",
        "with the policy you will train yourself!\n",
        "\n",
        "To render a rollout, follow the instructions in the *Render* section at the end of this tutorial\n",
        "and just remove the line ``policy=agents_exploration_policy`` from ``env.rollout()``.\n",
        "\n",
        "\n",
        "## Policy\n",
        "\n",
        "DDPG utilises a deterministic policy. This means that our\n",
        "neural network will output the action to take.\n",
        "As the action is continuous, we use a Tanh-Delta distribution to respect the\n",
        "action space boundaries. The only thing that this class does is apply a Tanh transformation to make sure the action\n",
        "is withing the domain bounds.\n",
        "\n",
        "Another important decision we need to make is whether we want the agents within a team to **share the policy parameters**.\n",
        "On the one hand, sharing parameters means that they will all share the same policy, which will allow them to benefit from\n",
        "each other's experiences. This will also result in faster training.\n",
        "On the other hand, it will make them behaviorally *homogenous*, as they will in fact share the same model.\n",
        "For this example, we will enable sharing as we do not mind the homogeneity and can benefit from the computational\n",
        "speed, but it is important to always think about this decision in your own problems!\n",
        "\n",
        "We design the policy in three steps.\n",
        "\n",
        "**First**: define a neural network ``n_obs_per_agent`` -> ``n_actions_per_agents``\n",
        "\n",
        "For this we use the ``MultiAgentMLP``, a TorchRL module made exactly for\n",
        "multiple agents, with much customization available.\n",
        "\n",
        "We will define a different policy for each group and store them in a dictionary.\n",
        "\n",
        "\n",
        "\n"
      ]
    },
    {
      "cell_type": "code",
      "execution_count": null,
      "metadata": {
        "id": "gKA-fpmFWCTh"
      },
      "outputs": [],
      "source": [
        "policy_modules = {}\n",
        "for group, agents in env.group_map.items():\n",
        "    share_parameters_policy = True  # Can change this based on the group\n",
        "\n",
        "    policy_net = MultiAgentMLP(\n",
        "        n_agent_inputs=env.observation_spec[group, \"observation\"].shape[\n",
        "            -1\n",
        "        ],  # n_obs_per_agent\n",
        "        n_agent_outputs=env.full_action_spec[group, \"action\"].shape[\n",
        "            -1\n",
        "        ],  # n_actions_per_agents\n",
        "        n_agents=len(agents),  # Number of agents in the group\n",
        "        centralised=False,  # the policies are decentralised (i.e., each agent will act from its local observation)\n",
        "        share_params=share_parameters_policy,\n",
        "        device=device,\n",
        "        depth=2,\n",
        "        num_cells=256,\n",
        "        activation_class=torch.nn.Tanh,\n",
        "    )\n",
        "\n",
        "    # Wrap the neural network in a :class:`~tensordict.nn.TensorDictModule`.\n",
        "    # This is simply a module that will read the ``in_keys`` from a tensordict, feed them to the\n",
        "    # neural networks, and write the\n",
        "    # outputs in-place at the ``out_keys``.\n",
        "\n",
        "    policy_module = TensorDictModule(\n",
        "        policy_net,\n",
        "        in_keys=[(group, \"observation\")],\n",
        "        out_keys=[(group, \"param\")],\n",
        "    )  # We just name the input and output that the network will read and write to the input tensordict\n",
        "    policy_modules[group] = policy_module"
      ]
    },
    {
      "cell_type": "markdown",
      "metadata": {
        "id": "CqtmtIGDWCTh"
      },
      "source": [
        "**Second**: wrap the :class:`~tensodrdict.nn.TensorDictModule` in a :class:`~torchrl.modules.ProbabilisticActor`\n",
        "\n",
        "We now need to build the TanhDelta distribution.\n",
        "We instruct the :class:`~torchrl.modules.ProbabilisticActor`\n",
        "class to build a :class:`~torchrl.modules.TanhDelta` out of the policy action\n",
        "parameters. We also provide the minimum and maximum values of this\n",
        "distribution, which we gather from the environment specs.\n",
        "\n",
        "The name of the ``in_keys`` (and hence the name of the ``out_keys`` from\n",
        "the :class:`TensorDictModule` above) has to end with the\n",
        ":class:`~torchrl.modules.TanhDelta` distribution constructor keyword arguments (param).\n",
        "\n",
        "\n"
      ]
    },
    {
      "cell_type": "code",
      "execution_count": null,
      "metadata": {
        "id": "JxsUWGLbWCTh"
      },
      "outputs": [],
      "source": [
        "policies = {}\n",
        "for group, _agents in env.group_map.items():\n",
        "    policy = ProbabilisticActor(\n",
        "        module=policy_modules[group],\n",
        "        spec=env.full_action_spec[group, \"action\"],\n",
        "        in_keys=[(group, \"param\")],\n",
        "        out_keys=[(group, \"action\")],\n",
        "        distribution_class=TanhDelta,\n",
        "        distribution_kwargs={\n",
        "            \"low\": env.full_action_spec[group, \"action\"].space.low,\n",
        "            \"high\": env.full_action_spec[group, \"action\"].space.high,\n",
        "        },\n",
        "        return_log_prob=False,\n",
        "    )\n",
        "    policies[group] = policy"
      ]
    },
    {
      "cell_type": "markdown",
      "metadata": {
        "id": "a9jS0KmlWCTi"
      },
      "source": [
        "**Third**: Exploration\n",
        "\n",
        "Since the DDPG policy is deterministic, we need a way to perform exploration during collection.\n",
        "\n",
        "For this purpose, we need to append an exploration layer to our policies before passing them to the collector.\n",
        "In this case we use a :class:`~torchrl.modules.AdditiveGaussianModule`, which adds gaussian noise to our action\n",
        "(and clamps it if the noise makes the action out of bounds).\n",
        "\n",
        "This exploration wrapper uses a ``sigma`` parameter which is multiplied by the noise to determine its magnitude.\n",
        "Sigma can be annealed throughout training to reduce exploration.\n",
        "Sigma will go from ``sigma_init`` to ``sigma_end`` in ``annealing_num_steps``.\n",
        "\n",
        "\n"
      ]
    },
    {
      "cell_type": "code",
      "execution_count": null,
      "metadata": {
        "id": "qn2w3kUaWCTi"
      },
      "outputs": [],
      "source": [
        "exploration_policies = {}\n",
        "for group, _agents in env.group_map.items():\n",
        "    exploration_policy = TensorDictSequential(\n",
        "        policies[group],\n",
        "        AdditiveGaussianModule(\n",
        "            spec=policies[group].spec,\n",
        "            annealing_num_steps=total_frames\n",
        "            // 2,  # Number of frames after which sigma is sigma_end\n",
        "            action_key=(group, \"action\"),\n",
        "            sigma_init=0.9,  # Initial value of the sigma\n",
        "            sigma_end=0.1,  # Final value of the sigma\n",
        "        ),\n",
        "    )\n",
        "    exploration_policies[group] = exploration_policy"
      ]
    },
    {
      "cell_type": "markdown",
      "metadata": {
        "id": "ogsD_h0mWCTi"
      },
      "source": [
        "## Critic network\n",
        "\n",
        "The critic network is a crucial component of the DDPG algorithm, even though it\n",
        "isn't used at sampling time. This module will read the observations & actions taken and\n",
        "return the corresponding value estimates.\n",
        "\n",
        "As before, one should think carefully about the decision of **sharing the critic parameters** within an agent group.\n",
        "In general, parameter sharing will grant faster training convergence, but there are a few important\n",
        "considerations to be made:\n",
        "\n",
        "- Sharing is not recommended when agents have different reward functions, as the critics will need to learn\n",
        "  to assign different values to the same state (e.g., in mixed cooperative-competitive settings).\n",
        "  In this case, since the two groups are already using separate networks, the sharing decision only applies\n",
        "  for agents within a group, which we already know have the same reward function.\n",
        "- In decentralised training settings, sharing cannot be performed without additional infrastructure to\n",
        "  synchronise parameters.\n",
        "\n",
        "In all other cases where the reward function (to be differentiated from the reward) is the same for all agents\n",
        "in a group (as in the current scenario),\n",
        "sharing can provide improved performance. This can come at the cost of homogeneity in the agent strategies.\n",
        "In general, the best way to know which choice is preferable is to quickly experiment both options.\n",
        "\n",
        "Here is also where we have to choose between **MADDPG and IDDPG**:\n",
        "\n",
        "- With MADDPG, we will obtain a central critic with full-observability\n",
        "  (i.e., it will take all the concatenated global agent observations and actions as input).\n",
        "  We can do this because we are in a simulator\n",
        "  and training is centralised.\n",
        "- With IDDPG, we will have a local decentralised critic, just like the policy.\n",
        "\n",
        "In any case, the critic output will have shape ``(..., n_agents_in_group, 1)``.\n",
        "If the critic is centralised and shared,\n",
        "all the values along the ``n_agents_in_group`` dimension will be identical.\n",
        "\n",
        "As with the policy, we create a critic network for each group and store them in a dictionary.\n",
        "\n",
        "\n"
      ]
    },
    {
      "cell_type": "code",
      "execution_count": null,
      "metadata": {
        "id": "UNCMB0a6WCTi"
      },
      "outputs": [],
      "source": [
        "critics = {}\n",
        "for group, agents in env.group_map.items():\n",
        "    share_parameters_critic = True  # Can change for each group\n",
        "    MADDPG = True  # IDDPG if False, can change for each group\n",
        "\n",
        "    # This module applies the lambda function: reading the action and observation entries for the group\n",
        "    # and concatenating them in a new ``(group, \"obs_action\")`` entry\n",
        "    cat_module = TensorDictModule(\n",
        "        lambda obs, action: torch.cat([obs, action], dim=-1),\n",
        "        in_keys=[(group, \"observation\"), (group, \"action\")],\n",
        "        out_keys=[(group, \"obs_action\")],\n",
        "    )\n",
        "\n",
        "    critic_module = TensorDictModule(\n",
        "        module=MultiAgentMLP(\n",
        "            n_agent_inputs=env.observation_spec[group, \"observation\"].shape[-1]\n",
        "            + env.full_action_spec[group, \"action\"].shape[-1],\n",
        "            n_agent_outputs=1,  # 1 value per agent\n",
        "            n_agents=len(agents),\n",
        "            centralised=MADDPG,\n",
        "            share_params=share_parameters_critic,\n",
        "            device=device,\n",
        "            depth=2,\n",
        "            num_cells=256,\n",
        "            activation_class=torch.nn.Tanh,\n",
        "        ),\n",
        "        in_keys=[(group, \"obs_action\")],  # Read ``(group, \"obs_action\")``\n",
        "        out_keys=[\n",
        "            (group, \"state_action_value\")\n",
        "        ],  # Write ``(group, \"state_action_value\")``\n",
        "    )\n",
        "\n",
        "    critics[group] = TensorDictSequential(\n",
        "        cat_module, critic_module\n",
        "    )  # Run them in sequence"
      ]
    },
    {
      "cell_type": "markdown",
      "metadata": {
        "id": "UEoHWmQQWCTi"
      },
      "source": [
        "Let us try our policy and critic modules. As pointed earlier, the usage of\n",
        ":class:`~tensordict.nn.TensorDictModule` makes it possible to directly read the output\n",
        "of the environment to run these modules, as they know what information to read\n",
        "and where to write it.\n",
        "\n",
        "We can see that after each group's networks are run their output keys are added to the data under the\n",
        "group entry.\n",
        "\n",
        "**From this point on, the multi-agent-specific components have been instantiated, and we will simply use the same\n",
        "components as in single-agent learning. Isn't this fantastic?**\n",
        "\n",
        "\n"
      ]
    },
    {
      "cell_type": "code",
      "execution_count": null,
      "metadata": {
        "id": "7KhX4kS_WCTi",
        "outputId": "499c3604-6edc-40b6-b01b-fde4c7debeae",
        "colab": {
          "base_uri": "https://localhost:8080/"
        }
      },
      "outputs": [
        {
          "output_type": "stream",
          "name": "stdout",
          "text": [
            "Running value and policy for group 'agent_blue': TensorDict(\n",
            "    fields={\n",
            "        agent_blue: TensorDict(\n",
            "            fields={\n",
            "                action: Tensor(shape=torch.Size([10, 3, 2]), device=cpu, dtype=torch.float32, is_shared=False),\n",
            "                episode_reward: Tensor(shape=torch.Size([10, 3, 1]), device=cpu, dtype=torch.float32, is_shared=False),\n",
            "                obs_action: Tensor(shape=torch.Size([10, 3, 10]), device=cpu, dtype=torch.float32, is_shared=False),\n",
            "                observation: Tensor(shape=torch.Size([10, 3, 8]), device=cpu, dtype=torch.float32, is_shared=False),\n",
            "                param: Tensor(shape=torch.Size([10, 3, 2]), device=cpu, dtype=torch.float32, is_shared=False),\n",
            "                state_action_value: Tensor(shape=torch.Size([10, 3, 1]), device=cpu, dtype=torch.float32, is_shared=False)},\n",
            "            batch_size=torch.Size([10, 3]),\n",
            "            device=cpu,\n",
            "            is_shared=False),\n",
            "        done: Tensor(shape=torch.Size([10, 1]), device=cpu, dtype=torch.bool, is_shared=False),\n",
            "        terminated: Tensor(shape=torch.Size([10, 1]), device=cpu, dtype=torch.bool, is_shared=False)},\n",
            "    batch_size=torch.Size([10]),\n",
            "    device=cpu,\n",
            "    is_shared=False)\n"
          ]
        }
      ],
      "source": [
        "reset_td = env.reset()\n",
        "for group, _agents in env.group_map.items():\n",
        "    print(\n",
        "        f\"Running value and policy for group '{group}':\",\n",
        "        critics[group](policies[group](reset_td)),\n",
        "    )"
      ]
    },
    {
      "cell_type": "markdown",
      "metadata": {
        "id": "BQt0RcdoWCTi"
      },
      "source": [
        "## Data collector\n",
        "\n",
        "TorchRL provides a set of data collector classes. Briefly, these\n",
        "classes execute three operations: reset an environment, compute an action\n",
        "using the policy and the latest observation, execute a step in the environment, and repeat\n",
        "the last two steps until the environment signals a stop (or reaches a done\n",
        "state).\n",
        "\n",
        "We will use the simplest possible data collector, which has the same output as an environment rollout,\n",
        "with the only difference that it will auto reset done states until the desired frames are collected.\n",
        "\n",
        "We need to feed it our exploration policies. Furthermore, to run the policies from all groups as if they were one,\n",
        "we put them in a sequence. They will not interfere with each other as each group writes and reads keys in different places.\n",
        "\n",
        "\n"
      ]
    },
    {
      "cell_type": "code",
      "execution_count": null,
      "metadata": {
        "id": "CXqXhEHAWCTi"
      },
      "outputs": [],
      "source": [
        "# Put exploration policies from each group in a sequence\n",
        "agents_exploration_policy = TensorDictSequential(*exploration_policies.values())\n",
        "\n",
        "collector = SyncDataCollector(\n",
        "    env,\n",
        "    agents_exploration_policy,\n",
        "    device=device,\n",
        "    frames_per_batch=frames_per_batch,\n",
        "    total_frames=total_frames,\n",
        ")"
      ]
    },
    {
      "cell_type": "markdown",
      "metadata": {
        "id": "qbcm4KXCWCTi"
      },
      "source": [
        "## Replay buffer\n",
        "\n",
        "Replay buffers are a common building piece of off-policy RL algorithms.\n",
        "There are many types of buffers, in this tutorial we use a basic buffer to store and sample tensordict\n",
        "data randomly.\n",
        "\n",
        "This buffer uses :class:`~.data.LazyMemmapStorage`, which stores data on disk.\n",
        "This allows to use the disk memory, but can result in slower sampling as it requires data to be cast to the training device.\n",
        "To store your buffer on the GPU, you can use :class:`~.data.LazyTensorStorage`, passing the desired device.\n",
        "This will result in faster sampling but is subject to the memory constraints of the selected device.\n",
        "\n",
        "\n"
      ]
    },
    {
      "cell_type": "code",
      "execution_count": null,
      "metadata": {
        "id": "pqEx587WWCTi"
      },
      "outputs": [],
      "source": [
        "replay_buffers = {}\n",
        "for group, _agents in env.group_map.items():\n",
        "    replay_buffer = ReplayBuffer(\n",
        "        storage=LazyMemmapStorage(\n",
        "            memory_size\n",
        "        ),  # We will store up to memory_size multi-agent transitions\n",
        "        sampler=RandomSampler(),\n",
        "        batch_size=train_batch_size,  # We will sample batches of this size\n",
        "    )\n",
        "    if device.type != \"cpu\":\n",
        "        replay_buffer.append_transform(lambda x: x.to(device))\n",
        "    replay_buffers[group] = replay_buffer"
      ]
    },
    {
      "cell_type": "markdown",
      "metadata": {
        "id": "UFdBKZnrWCTi"
      },
      "source": [
        "## Loss function\n",
        "\n",
        "The DDPG loss can be directly imported from TorchRL for convenience using the\n",
        ":class:`~.objectives.DDPGLoss` class. This is the easiest way of utilising DDPG:\n",
        "it hides away the mathematical operations of DDPG and the control flow that\n",
        "goes with it.\n",
        "\n",
        "It is also possible to have different policies for each group.\n",
        "\n",
        "\n"
      ]
    },
    {
      "cell_type": "code",
      "execution_count": null,
      "metadata": {
        "id": "GdAxKDIFWCTi"
      },
      "outputs": [],
      "source": [
        "losses = {}\n",
        "for group, _agents in env.group_map.items():\n",
        "    loss_module = DDPGLoss(\n",
        "        actor_network=policies[group],  # Use the non-explorative policies\n",
        "        value_network=critics[group],\n",
        "        delay_value=True,  # Whether to use a target network for the value\n",
        "        loss_function=\"l2\",\n",
        "    )\n",
        "    loss_module.set_keys(\n",
        "        state_action_value=(group, \"state_action_value\"),\n",
        "        reward=(group, \"reward\"),\n",
        "        done=(group, \"done\"),\n",
        "        terminated=(group, \"terminated\"),\n",
        "    )\n",
        "    loss_module.make_value_estimator(ValueEstimators.TD0, gamma=gamma)\n",
        "\n",
        "    losses[group] = loss_module\n",
        "\n",
        "target_updaters = {\n",
        "    group: SoftUpdate(loss, tau=polyak_tau) for group, loss in losses.items()\n",
        "}\n",
        "\n",
        "optimisers = {\n",
        "    group: {\n",
        "        \"loss_actor\": torch.optim.Adam(\n",
        "            loss.actor_network_params.flatten_keys().values(), lr=lr\n",
        "        ),\n",
        "        \"loss_value\": torch.optim.Adam(\n",
        "            loss.value_network_params.flatten_keys().values(), lr=lr\n",
        "        ),\n",
        "    }\n",
        "    for group, loss in losses.items()\n",
        "}"
      ]
    },
    {
      "cell_type": "markdown",
      "metadata": {
        "id": "w-k0GdMCWCTi"
      },
      "source": [
        "## Training utils\n",
        "\n",
        "We do have to define two helper functions that we will use in the training loop.\n",
        "They are very simple and do not contain any important logic.\n",
        "\n",
        "\n",
        "\n"
      ]
    },
    {
      "cell_type": "code",
      "execution_count": null,
      "metadata": {
        "id": "UNIXTT4TWCTi"
      },
      "outputs": [],
      "source": [
        "def process_batch(batch: TensorDictBase) -> TensorDictBase:\n",
        "    \"\"\"\n",
        "    If the `(group, \"terminated\")` and `(group, \"done\")` keys are not present, create them by expanding\n",
        "    `\"terminated\"` and `\"done\"`.\n",
        "    This is needed to present them with the same shape as the reward to the loss.\n",
        "    \"\"\"\n",
        "    for group in env.group_map.keys():\n",
        "        keys = list(batch.keys(True, True))\n",
        "        group_shape = batch.get_item_shape(group)\n",
        "        nested_done_key = (\"next\", group, \"done\")\n",
        "        nested_terminated_key = (\"next\", group, \"terminated\")\n",
        "        if nested_done_key not in keys:\n",
        "            batch.set(\n",
        "                nested_done_key,\n",
        "                batch.get((\"next\", \"done\")).unsqueeze(-1).expand((*group_shape, 1)),\n",
        "            )\n",
        "        if nested_terminated_key not in keys:\n",
        "            batch.set(\n",
        "                nested_terminated_key,\n",
        "                batch.get((\"next\", \"terminated\"))\n",
        "                .unsqueeze(-1)\n",
        "                .expand((*group_shape, 1)),\n",
        "            )\n",
        "    return batch"
      ]
    },
    {
      "cell_type": "markdown",
      "metadata": {
        "id": "LK8tcslCWCTi"
      },
      "source": [
        "## Training loop\n",
        "We now have all the pieces needed to code our training loop.\n",
        "The steps include:\n",
        "\n",
        "* Collect data for all groups\n",
        "    * Loop over groups\n",
        "        * Store group data in group buffer\n",
        "        * Loop over epochs\n",
        "            * Sample from group buffer\n",
        "            * Compute loss on sampled data\n",
        "            * Back propagate loss\n",
        "            * Optimise\n",
        "        * Repeat\n",
        "    * Repeat\n",
        "* Repeat\n",
        "\n",
        "\n",
        "\n"
      ]
    },
    {
      "cell_type": "code",
      "execution_count": null,
      "metadata": {
        "id": "Yqdxd2mUWCTi",
        "outputId": "5f970f50-1104-4773-dbfb-ef75cbd321c4",
        "colab": {
          "base_uri": "https://localhost:8080/"
        }
      },
      "outputs": [
        {
          "output_type": "stream",
          "name": "stderr",
          "text": [
            "episode_reward_mean_agent_blue = 0:   0%|          | 0/10 [02:14<?, ?it/s]\n",
            "episode_reward_mean_agent_blue = -0.025847619399428368: 100%|██████████| 64/64 [26:00<00:00, 22.63s/it]"
          ]
        }
      ],
      "source": [
        "pbar = tqdm(\n",
        "    total=n_iters,\n",
        "    desc=\", \".join(\n",
        "        [f\"episode_reward_mean_{group} = 0\" for group in env.group_map.keys()]\n",
        "    ),\n",
        ")\n",
        "episode_reward_mean_map = {group: [] for group in env.group_map.keys()}\n",
        "train_group_map = copy.deepcopy(env.group_map)\n",
        "\n",
        "# Training/collection iterations\n",
        "for iteration, batch in enumerate(collector):\n",
        "    current_frames = batch.numel()\n",
        "    batch = process_batch(batch)  # Util to expand done keys if needed\n",
        "    # Loop over groups\n",
        "    for group in train_group_map.keys():\n",
        "        group_batch = batch.exclude(\n",
        "            *[\n",
        "                key\n",
        "                for _group in env.group_map.keys()\n",
        "                if _group != group\n",
        "                for key in [_group, (\"next\", _group)]\n",
        "            ]\n",
        "        )  # Exclude data from other groups\n",
        "        group_batch = group_batch.reshape(\n",
        "            -1\n",
        "        )  # This just affects the leading dimensions in batch_size of the tensordict\n",
        "        replay_buffers[group].extend(group_batch)\n",
        "\n",
        "        for _ in range(n_optimiser_steps):\n",
        "            subdata = replay_buffers[group].sample()\n",
        "            loss_vals = losses[group](subdata)\n",
        "\n",
        "            for loss_name in [\"loss_actor\", \"loss_value\"]:\n",
        "                loss = loss_vals[loss_name]\n",
        "                optimiser = optimisers[group][loss_name]\n",
        "\n",
        "                loss.backward()\n",
        "\n",
        "                # Optional\n",
        "                params = optimiser.param_groups[0][\"params\"]\n",
        "                torch.nn.utils.clip_grad_norm_(params, max_grad_norm)\n",
        "\n",
        "                optimiser.step()\n",
        "                optimiser.zero_grad()\n",
        "\n",
        "            # Soft-update the target network\n",
        "            target_updaters[group].step()\n",
        "\n",
        "        # Exploration sigma anneal update\n",
        "        exploration_policies[group][-1].step(current_frames)\n",
        "\n",
        "    # Stop training a certain group when a condition is met (e.g., number of training iterations)\n",
        "    if iteration == iteration_when_stop_training_evaders:\n",
        "        del train_group_map[\"agent_blue\"] # TODO: be sure to change the key(s) here depending on the scenario you're running!\n",
        "\n",
        "    # Logging\n",
        "    for group in env.group_map.keys():\n",
        "        episode_reward_mean = (\n",
        "            batch.get((\"next\", group, \"episode_reward\"))[\n",
        "                batch.get((\"next\", group, \"done\"))\n",
        "            ]\n",
        "            .mean()\n",
        "            .item()\n",
        "        )\n",
        "        episode_reward_mean_map[group].append(episode_reward_mean)\n",
        "\n",
        "    pbar.set_description(\n",
        "        \", \".join(\n",
        "            [\n",
        "                f\"episode_reward_mean_{group} = {episode_reward_mean_map[group][-1]}\"\n",
        "                for group in env.group_map.keys()\n",
        "            ]\n",
        "        ),\n",
        "        refresh=False,\n",
        "    )\n",
        "    pbar.update()"
      ]
    },
    {
      "cell_type": "markdown",
      "metadata": {
        "id": "0gqzyUk1WCTn"
      },
      "source": [
        "## Results\n",
        "\n",
        "We can plot the mean reward obtained per episode.\n",
        "\n",
        "To make training last longer, increase the ``n_iters`` hyperparameter.\n",
        "\n",
        "When running this script locally, you may need to close the opened window to\n",
        "proceed with the rest of the screen.\n",
        "\n",
        "\n"
      ]
    },
    {
      "cell_type": "code",
      "execution_count": null,
      "metadata": {
        "id": "ygayJ_tNWCTn",
        "outputId": "baa7a472-8761-44de-c498-66be7033f7e8",
        "colab": {
          "base_uri": "https://localhost:8080/",
          "height": 449
        }
      },
      "outputs": [
        {
          "output_type": "display_data",
          "data": {
            "text/plain": [
              "<Figure size 640x480 with 2 Axes>"
            ],
            "image/png": "[encoded data removed]"
          },
          "metadata": {}
        }
      ],
      "source": [
        "fig, axs = plt.subplots(2, 1)\n",
        "for i, group in enumerate(env.group_map.keys()):\n",
        "    axs[i].plot(episode_reward_mean_map[group], label=f\"Episode reward mean {group}\")\n",
        "    axs[i].set_ylabel(\"Reward\")\n",
        "    axs[i].axvline(\n",
        "        x=iteration_when_stop_training_evaders,\n",
        "        label=\"Agent stop training\",\n",
        "        color=\"orange\",\n",
        "    )\n",
        "    axs[i].legend()\n",
        "axs[-1].set_xlabel(\"Training iterations\")\n",
        "plt.show()"
      ]
    },
    {
      "cell_type": "markdown",
      "metadata": {
        "id": "2ZM5GShRWCTn"
      },
      "source": [
        "## Render\n",
        "\n",
        "*Rendering instruction are for VMAS*, aka when running with ``use_vmas=True``.\n",
        "\n",
        "TorchRL offers some utils to record and save rendered videos. You can learn more about these tools\n",
        "`here <Environment-Recorders>`.\n",
        "\n",
        "In the following code-block, we append a transform that will call the :meth:`render` method from the VMAS\n",
        "wrapped environment and save the stack of frames to a `mp4` file which location is determined by the custom\n",
        "logger `video_logger`. Note that this code may require some external dependencies such as torchvision.\n",
        "\n",
        "\n"
      ]
    },
    {
      "cell_type": "code",
      "execution_count": null,
      "metadata": {
        "id": "WN7YjocsWCTn",
        "outputId": "819f3de6-45ca-4baa-845c-f298dcc80c35",
        "colab": {
          "base_uri": "https://localhost:8080/",
          "height": 561
        }
      },
      "outputs": [
        {
          "output_type": "stream",
          "name": "stdout",
          "text": [
            "Creating rendering env\n",
            "Rendering rollout...\n",
            "Saving the video...\n"
          ]
        },
        {
          "output_type": "error",
          "ename": "TypeError",
          "evalue": "an integer is required",
          "traceback": [
            "\u001b[0;31m---------------------------------------------------------------------------\u001b[0m",
            "\u001b[0;31mTypeError\u001b[0m                                 Traceback (most recent call last)",
            "\u001b[0;32m<ipython-input-56-235ee5a65196>\u001b[0m in \u001b[0;36m<cell line: 1>\u001b[0;34m()\u001b[0m\n\u001b[1;32m     23\u001b[0m         \u001b[0mprint\u001b[0m\u001b[0;34m(\u001b[0m\u001b[0;34m\"Saving the video...\"\u001b[0m\u001b[0;34m)\u001b[0m\u001b[0;34m\u001b[0m\u001b[0;34m\u001b[0m\u001b[0m\n\u001b[1;32m     24\u001b[0m \u001b[0;34m\u001b[0m\u001b[0m\n\u001b[0;32m---> 25\u001b[0;31m         \u001b[0menv_with_render\u001b[0m\u001b[0;34m.\u001b[0m\u001b[0mtransform\u001b[0m\u001b[0;34m.\u001b[0m\u001b[0mdump\u001b[0m\u001b[0;34m(\u001b[0m\u001b[0;34m)\u001b[0m  \u001b[0;31m# Now dump the recorder data\u001b[0m\u001b[0;34m\u001b[0m\u001b[0;34m\u001b[0m\u001b[0m\n\u001b[0m\u001b[1;32m     26\u001b[0m         \u001b[0mprint\u001b[0m\u001b[0;34m(\u001b[0m\u001b[0;34m\"Saved! Saved directory tree:\"\u001b[0m\u001b[0;34m)\u001b[0m\u001b[0;34m\u001b[0m\u001b[0;34m\u001b[0m\u001b[0m\n\u001b[1;32m     27\u001b[0m         \u001b[0mvideo_logger\u001b[0m\u001b[0;34m.\u001b[0m\u001b[0mprint_log_dir\u001b[0m\u001b[0;34m(\u001b[0m\u001b[0;34m)\u001b[0m\u001b[0;34m\u001b[0m\u001b[0;34m\u001b[0m\u001b[0m\n",
            "\u001b[0;32m/usr/local/lib/python3.10/dist-packages/torchrl/envs/transforms/transforms.py\u001b[0m in \u001b[0;36mdump\u001b[0;34m(self, **kwargs)\u001b[0m\n\u001b[1;32m   1126\u001b[0m     \u001b[0;32mdef\u001b[0m \u001b[0mdump\u001b[0m\u001b[0;34m(\u001b[0m\u001b[0mself\u001b[0m\u001b[0;34m,\u001b[0m \u001b[0;34m**\u001b[0m\u001b[0mkwargs\u001b[0m\u001b[0;34m)\u001b[0m \u001b[0;34m->\u001b[0m \u001b[0;32mNone\u001b[0m\u001b[0;34m:\u001b[0m\u001b[0;34m\u001b[0m\u001b[0;34m\u001b[0m\u001b[0m\n\u001b[1;32m   1127\u001b[0m         \u001b[0;32mfor\u001b[0m \u001b[0mt\u001b[0m \u001b[0;32min\u001b[0m \u001b[0mself\u001b[0m\u001b[0;34m:\u001b[0m\u001b[0;34m\u001b[0m\u001b[0;34m\u001b[0m\u001b[0m\n\u001b[0;32m-> 1128\u001b[0;31m             \u001b[0mt\u001b[0m\u001b[0;34m.\u001b[0m\u001b[0mdump\u001b[0m\u001b[0;34m(\u001b[0m\u001b[0;34m**\u001b[0m\u001b[0mkwargs\u001b[0m\u001b[0;34m)\u001b[0m\u001b[0;34m\u001b[0m\u001b[0;34m\u001b[0m\u001b[0m\n\u001b[0m\u001b[1;32m   1129\u001b[0m \u001b[0;34m\u001b[0m\u001b[0m\n\u001b[1;32m   1130\u001b[0m     def _reset(\n",
            "\u001b[0;32m/usr/local/lib/python3.10/dist-packages/torchrl/record/recorder.py\u001b[0m in \u001b[0;36mdump\u001b[0;34m(self, suffix)\u001b[0m\n\u001b[1;32m    251\u001b[0m                 \u001b[0mtag\u001b[0m \u001b[0;34m=\u001b[0m \u001b[0;34m\"_\"\u001b[0m\u001b[0;34m.\u001b[0m\u001b[0mjoin\u001b[0m\u001b[0;34m(\u001b[0m\u001b[0;34m[\u001b[0m\u001b[0mself\u001b[0m\u001b[0;34m.\u001b[0m\u001b[0mtag\u001b[0m\u001b[0;34m,\u001b[0m \u001b[0msuffix\u001b[0m\u001b[0;34m]\u001b[0m\u001b[0;34m)\u001b[0m\u001b[0;34m\u001b[0m\u001b[0;34m\u001b[0m\u001b[0m\n\u001b[1;32m    252\u001b[0m             \u001b[0;32mif\u001b[0m \u001b[0mself\u001b[0m\u001b[0;34m.\u001b[0m\u001b[0mlogger\u001b[0m \u001b[0;32mis\u001b[0m \u001b[0;32mnot\u001b[0m \u001b[0;32mNone\u001b[0m\u001b[0;34m:\u001b[0m\u001b[0;34m\u001b[0m\u001b[0;34m\u001b[0m\u001b[0m\n\u001b[0;32m--> 253\u001b[0;31m                 self.logger.log_video(\n\u001b[0m\u001b[1;32m    254\u001b[0m                     \u001b[0mname\u001b[0m\u001b[0;34m=\u001b[0m\u001b[0mtag\u001b[0m\u001b[0;34m,\u001b[0m\u001b[0;34m\u001b[0m\u001b[0;34m\u001b[0m\u001b[0m\n\u001b[1;32m    255\u001b[0m                     \u001b[0mvideo\u001b[0m\u001b[0;34m=\u001b[0m\u001b[0mobs\u001b[0m\u001b[0;34m,\u001b[0m\u001b[0;34m\u001b[0m\u001b[0;34m\u001b[0m\u001b[0m\n",
            "\u001b[0;32m/usr/local/lib/python3.10/dist-packages/torchrl/record/loggers/csv.py\u001b[0m in \u001b[0;36mlog_video\u001b[0;34m(self, name, video, step, **kwargs)\u001b[0m\n\u001b[1;32m    196\u001b[0m                 \u001b[0;34m\"Wrong format of the video tensor. Should be ((N), T, C, H, W)\"\u001b[0m\u001b[0;34m\u001b[0m\u001b[0;34m\u001b[0m\u001b[0m\n\u001b[1;32m    197\u001b[0m             )\n\u001b[0;32m--> 198\u001b[0;31m         self.experiment.add_video(\n\u001b[0m\u001b[1;32m    199\u001b[0m             \u001b[0mtag\u001b[0m\u001b[0;34m=\u001b[0m\u001b[0mname\u001b[0m\u001b[0;34m,\u001b[0m\u001b[0;34m\u001b[0m\u001b[0;34m\u001b[0m\u001b[0m\n\u001b[1;32m    200\u001b[0m             \u001b[0mvid_tensor\u001b[0m\u001b[0;34m=\u001b[0m\u001b[0mvideo\u001b[0m\u001b[0;34m,\u001b[0m\u001b[0;34m\u001b[0m\u001b[0;34m\u001b[0m\u001b[0m\n",
            "\u001b[0;32m/usr/local/lib/python3.10/dist-packages/torchrl/record/loggers/csv.py\u001b[0m in \u001b[0;36madd_video\u001b[0;34m(self, tag, vid_tensor, global_step, **kwargs)\u001b[0m\n\u001b[1;32m    100\u001b[0m             \u001b[0mvid_tensor\u001b[0m \u001b[0;34m=\u001b[0m \u001b[0mvid_tensor\u001b[0m\u001b[0;34m.\u001b[0m\u001b[0mexpand\u001b[0m\u001b[0;34m(\u001b[0m\u001b[0;34m*\u001b[0m\u001b[0mvid_tensor\u001b[0m\u001b[0;34m.\u001b[0m\u001b[0mshape\u001b[0m\u001b[0;34m[\u001b[0m\u001b[0;34m:\u001b[0m\u001b[0;34m-\u001b[0m\u001b[0;36m1\u001b[0m\u001b[0;34m]\u001b[0m\u001b[0;34m,\u001b[0m \u001b[0;36m3\u001b[0m\u001b[0;34m)\u001b[0m\u001b[0;34m\u001b[0m\u001b[0;34m\u001b[0m\u001b[0m\n\u001b[1;32m    101\u001b[0m             \u001b[0mkwargs\u001b[0m\u001b[0;34m.\u001b[0m\u001b[0msetdefault\u001b[0m\u001b[0;34m(\u001b[0m\u001b[0;34m\"fps\"\u001b[0m\u001b[0;34m,\u001b[0m \u001b[0mself\u001b[0m\u001b[0;34m.\u001b[0m\u001b[0mvideo_fps\u001b[0m\u001b[0;34m)\u001b[0m\u001b[0;34m\u001b[0m\u001b[0;34m\u001b[0m\u001b[0m\n\u001b[0;32m--> 102\u001b[0;31m             \u001b[0mtorchvision\u001b[0m\u001b[0;34m.\u001b[0m\u001b[0mio\u001b[0m\u001b[0;34m.\u001b[0m\u001b[0mwrite_video\u001b[0m\u001b[0;34m(\u001b[0m\u001b[0mfilepath\u001b[0m\u001b[0;34m,\u001b[0m \u001b[0mvid_tensor\u001b[0m\u001b[0;34m,\u001b[0m \u001b[0;34m**\u001b[0m\u001b[0mkwargs\u001b[0m\u001b[0;34m)\u001b[0m\u001b[0;34m\u001b[0m\u001b[0;34m\u001b[0m\u001b[0m\n\u001b[0m\u001b[1;32m    103\u001b[0m         \u001b[0;32melse\u001b[0m\u001b[0;34m:\u001b[0m\u001b[0;34m\u001b[0m\u001b[0;34m\u001b[0m\u001b[0m\n\u001b[1;32m    104\u001b[0m             raise ValueError(\n",
            "\u001b[0;32m/usr/local/lib/python3.10/dist-packages/torchvision/io/video.py\u001b[0m in \u001b[0;36mwrite_video\u001b[0;34m(filename, video_array, fps, video_codec, options, audio_array, audio_fps, audio_codec, audio_options)\u001b[0m\n\u001b[1;32m    138\u001b[0m         \u001b[0;32mfor\u001b[0m \u001b[0mimg\u001b[0m \u001b[0;32min\u001b[0m \u001b[0mvideo_array\u001b[0m\u001b[0;34m:\u001b[0m\u001b[0;34m\u001b[0m\u001b[0;34m\u001b[0m\u001b[0m\n\u001b[1;32m    139\u001b[0m             \u001b[0mframe\u001b[0m \u001b[0;34m=\u001b[0m \u001b[0mav\u001b[0m\u001b[0;34m.\u001b[0m\u001b[0mVideoFrame\u001b[0m\u001b[0;34m.\u001b[0m\u001b[0mfrom_ndarray\u001b[0m\u001b[0;34m(\u001b[0m\u001b[0mimg\u001b[0m\u001b[0;34m,\u001b[0m \u001b[0mformat\u001b[0m\u001b[0;34m=\u001b[0m\u001b[0;34m\"rgb24\"\u001b[0m\u001b[0;34m)\u001b[0m\u001b[0;34m\u001b[0m\u001b[0;34m\u001b[0m\u001b[0m\n\u001b[0;32m--> 140\u001b[0;31m             \u001b[0mframe\u001b[0m\u001b[0;34m.\u001b[0m\u001b[0mpict_type\u001b[0m \u001b[0;34m=\u001b[0m \u001b[0;34m\"NONE\"\u001b[0m\u001b[0;34m\u001b[0m\u001b[0;34m\u001b[0m\u001b[0m\n\u001b[0m\u001b[1;32m    141\u001b[0m             \u001b[0;32mfor\u001b[0m \u001b[0mpacket\u001b[0m \u001b[0;32min\u001b[0m \u001b[0mstream\u001b[0m\u001b[0;34m.\u001b[0m\u001b[0mencode\u001b[0m\u001b[0;34m(\u001b[0m\u001b[0mframe\u001b[0m\u001b[0;34m)\u001b[0m\u001b[0;34m:\u001b[0m\u001b[0;34m\u001b[0m\u001b[0;34m\u001b[0m\u001b[0m\n\u001b[1;32m    142\u001b[0m                 \u001b[0mcontainer\u001b[0m\u001b[0;34m.\u001b[0m\u001b[0mmux\u001b[0m\u001b[0;34m(\u001b[0m\u001b[0mpacket\u001b[0m\u001b[0;34m)\u001b[0m\u001b[0;34m\u001b[0m\u001b[0;34m\u001b[0m\u001b[0m\n",
            "\u001b[0;32mav/video/frame.pyx\u001b[0m in \u001b[0;36mav.video.frame.VideoFrame.pict_type.__set__\u001b[0;34m()\u001b[0m\n",
            "\u001b[0;31mTypeError\u001b[0m: an integer is required"
          ]
        }
      ],
      "source": [
        "if use_vmas and not is_sphinx:\n",
        "    # Replace tmpdir with any desired path where the video should be saved\n",
        "    with tempfile.TemporaryDirectory() as tmpdir:\n",
        "        video_logger = CSVLogger(\"vmas_logs\", tmpdir, video_format=\"mp4\")\n",
        "        print(\"Creating rendering env\")\n",
        "        env_with_render = TransformedEnv(env.base_env, env.transform.clone())\n",
        "        env_with_render = env_with_render.append_transform(\n",
        "            PixelRenderTransform(\n",
        "                out_keys=[\"pixels\"],\n",
        "                # the np.ndarray has a negative stride and needs to be copied before being cast to a tensor\n",
        "                preproc=lambda x: x.copy(),\n",
        "                as_non_tensor=True,\n",
        "                # asking for array rather than on-screen rendering\n",
        "                mode=\"rgb_array\",\n",
        "            )\n",
        "        )\n",
        "        env_with_render = env_with_render.append_transform(\n",
        "            VideoRecorder(logger=video_logger, tag=\"vmas_rendered\")\n",
        "        )\n",
        "        with set_exploration_type(ExplorationType.DETERMINISTIC):\n",
        "            print(\"Rendering rollout...\")\n",
        "            env_with_render.rollout(100, policy=agents_exploration_policy)\n",
        "        print(\"Saving the video...\")\n",
        "\n",
        "        env_with_render.transform.dump()  # Now dump the recorder data\n",
        "        print(\"Saved! Saved directory tree:\")\n",
        "        video_logger.print_log_dir()"
      ]
    },
    {
      "cell_type": "code",
      "source": [],
      "metadata": {
        "id": "v4zcC20J5DSJ"
      },
      "execution_count": null,
      "outputs": []
    },
    {
      "cell_type": "markdown",
      "metadata": {
        "id": "eBi5AZrEWCTn"
      },
      "source": []
    }
  ],
  "metadata": {
    "kernelspec": {
      "display_name": "Python 3",
      "language": "python",
      "name": "python3"
    },
    "language_info": {
      "codemirror_mode": {
        "name": "ipython",
        "version": 3
      },
      "file_extension": ".py",
      "mimetype": "text/x-python",
      "name": "python",
      "nbconvert_exporter": "python",
      "pygments_lexer": "ipython3",
      "version": "3.10.16"
    },
    "colab": {
      "provenance": [],
      "include_colab_link": true
    }
  },
  "nbformat": 4,
  "nbformat_minor": 0
}